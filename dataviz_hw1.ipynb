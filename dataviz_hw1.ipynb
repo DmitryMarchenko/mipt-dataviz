{
  "nbformat": 4,
  "nbformat_minor": 0,
  "metadata": {
    "colab": {
      "name": "dataviz_hw1.ipynb",
      "provenance": [],
      "collapsed_sections": [],
      "authorship_tag": "ABX9TyPMTmjqu5v4SvI1FnC0ivoS",
      "include_colab_link": true
    },
    "kernelspec": {
      "name": "python3",
      "display_name": "Python 3"
    },
    "language_info": {
      "name": "python"
    }
  },
  "cells": [
    {
      "cell_type": "markdown",
      "metadata": {
        "id": "view-in-github",
        "colab_type": "text"
      },
      "source": [
        "<a href=\"https://colab.research.google.com/github/DmitryMarchenko/mipt-dataviz/blob/main/dataviz_hw1.ipynb\" target=\"_parent\"><img src=\"https://colab.research.google.com/assets/colab-badge.svg\" alt=\"Open In Colab\"/></a>"
      ]
    },
    {
      "cell_type": "code",
      "metadata": {
        "id": "S2UxBgZeC8Kb"
      },
      "source": [
        "import networkx as nx"
      ],
      "execution_count": 24,
      "outputs": []
    },
    {
      "cell_type": "code",
      "metadata": {
        "id": "Smn9loe_I1sz"
      },
      "source": [
        "G = nx.read_graphml('tree-84n.xml')\n",
        "root = [node for node, in_degree in G.in_degree() if in_degree == 0][0]"
      ],
      "execution_count": 430,
      "outputs": []
    },
    {
      "cell_type": "code",
      "metadata": {
        "id": "Dm7LBMYqRN4x"
      },
      "source": [
        "def set_y(node, h):\n",
        "  assert len(list(G.successors(node))) <= 2\n",
        "  G.nodes[node]['y'] = h\n",
        "  for s in G.successors(node):\n",
        "    set_y(s, h-1)"
      ],
      "execution_count": 431,
      "outputs": []
    },
    {
      "cell_type": "code",
      "metadata": {
        "id": "-NxokIHlg1xo"
      },
      "source": [
        "def shift_subtree(node, shift):\n",
        "  G.nodes[node]['x'] += shift\n",
        "  for s in G.successors(node):\n",
        "    shift_subtree(s, shift)"
      ],
      "execution_count": 432,
      "outputs": []
    },
    {
      "cell_type": "code",
      "metadata": {
        "id": "VdS5iRfUi98g"
      },
      "source": [
        "def get_contour(node):\n",
        "  successors = list(G.successors(node))\n",
        "  contour = []\n",
        "  if len(successors) == 2:\n",
        "    left_contour = get_contour(successors[0])\n",
        "    right_contour = get_contour(successors[1])\n",
        "    contour += [(min(lc[0], rc[0]), max(lc[1], rc[1])) for lc, rc in zip(left_contour, right_contour)]\n",
        "    long_contour = left_contour if len(left_contour) > len(right_contour) else right_contour\n",
        "    contour += long_contour[min(len(left_contour), len(right_contour)):]\n",
        "  if len(successors) == 1:\n",
        "    contour += get_contour(successors[0])\n",
        "  return [(G.nodes[node]['x'], G.nodes[node]['x'])] + contour"
      ],
      "execution_count": 433,
      "outputs": []
    },
    {
      "cell_type": "code",
      "metadata": {
        "id": "jVBNrdkhU1rD"
      },
      "source": [
        "def set_x(node):\n",
        "  successors = list(G.successors(node))\n",
        "  assert len(successors) <= 2\n",
        "  if len(successors) == 2:\n",
        "    contour_1 = set_x(successors[0])\n",
        "    contour_2 = set_x(successors[1])\n",
        "    shift = max([contour_1[h][1] + 1 - contour_2[h][0] for h in range(min(len(contour_1), len(contour_2)))])\n",
        "    shift_subtree(successors[1], shift)\n",
        "    G.nodes[node]['x'] = (G.nodes[successors[0]]['x'] + G.nodes[successors[1]]['x']) / 2\n",
        "  elif len(successors) == 1:\n",
        "    set_x(successors[0])\n",
        "    G.nodes[node]['x'] = G.nodes[successors[0]]['x']\n",
        "  else:\n",
        "    G.nodes[node]['x'] = 0\n",
        "  return get_contour(node)"
      ],
      "execution_count": 434,
      "outputs": []
    },
    {
      "cell_type": "code",
      "metadata": {
        "id": "-VwshbuUs8K6"
      },
      "source": [
        "def set_coords(node):\n",
        "  set_y(node, 0)\n",
        "  set_x(node)"
      ],
      "execution_count": 435,
      "outputs": []
    },
    {
      "cell_type": "code",
      "metadata": {
        "id": "97pFVBAMtFZy"
      },
      "source": [
        "set_coords(root)"
      ],
      "execution_count": 436,
      "outputs": []
    },
    {
      "cell_type": "code",
      "metadata": {
        "id": "DjISIu7ytJ6i"
      },
      "source": [
        "def draw(graph):\n",
        "  pos = {}\n",
        "  for node in graph.nodes:\n",
        "    pos[node] = (graph.nodes[node]['x'], graph.nodes[node]['y'])\n",
        "  nx.draw(graph, pos=pos, node_size=300*21/len(graph.nodes))"
      ],
      "execution_count": 437,
      "outputs": []
    },
    {
      "cell_type": "code",
      "metadata": {
        "colab": {
          "base_uri": "https://localhost:8080/",
          "height": 319
        },
        "id": "4_93kwJMm3bD",
        "outputId": "b2de1200-f167-413e-d1a6-967ac4b23b53"
      },
      "source": [
        "draw(G)"
      ],
      "execution_count": 438,
      "outputs": [
        {
          "output_type": "display_data",
          "data": {
            "image/png": "[encoded data removed]",
            "text/plain": [
              "<Figure size 432x288 with 1 Axes>"
            ]
          },
          "metadata": {
            "tags": []
          }
        }
      ]
    },
    {
      "cell_type": "code",
      "metadata": {
        "id": "lTzhCFL7qNUd"
      },
      "source": [
        ""
      ],
      "execution_count": null,
      "outputs": []
    }
  ]
}